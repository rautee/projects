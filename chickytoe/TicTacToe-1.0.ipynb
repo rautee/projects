{
 "cells": [
  {
   "cell_type": "code",
   "execution_count": 17,
   "metadata": {
    "init_cell": true
   },
   "outputs": [
    {
     "data": {
      "text/html": [
       "<script>\n",
       "code_show=true; \n",
       "function code_toggle() {\n",
       "  if (code_show) {\n",
       "    $('div.input').each(\n",
       "        function(id) {\n",
       "          el = $(this).find('.cm-comment:first');\n",
       "          if (el.text().replace(/\\s+/g,'').toLowerCase() == '#hide') {\n",
       "            $(this).hide();\n",
       "            $(\"#BrrrButton\").val(\"Show Hidden Cells\")\n",
       "          }\n",
       "        }\n",
       "    );\n",
       "    $('div.output_prompt').css('opacity', 0);\n",
       "  } \n",
       "  else {\n",
       "    $('div.input').each(\n",
       "        function(id) {\n",
       "          $(this).show();\n",
       "          $(\"#BrrrButton\").val(\"Hide Tagged Cells\")\n",
       "        }\n",
       "    );\n",
       "    $('div.output_prompt').css('opacity', 1);\n",
       "  }\n",
       "  code_show = !code_show\n",
       "} \n",
       "$( document ).ready(code_toggle);\n",
       "</script>\n",
       "<form action=\"javascript:code_toggle()\"><input id=\"BrrrButton\" style=\"opacity:0\" type=\"submit\" value=\"Hide Tagged Cells\"></form>"
      ],
      "text/plain": [
       "<IPython.core.display.HTML object>"
      ]
     },
     "execution_count": 17,
     "metadata": {},
     "output_type": "execute_result"
    }
   ],
   "source": [
    "#hide\n",
    "%run chickytoe.py\n",
    "%run enable_cell_hiding.py\n",
    "HTML(htmlscript_for_hiding_cells.format(opacity = 0))"
   ]
  },
  {
   "cell_type": "code",
   "execution_count": 18,
   "metadata": {
    "init_cell": true
   },
   "outputs": [
    {
     "data": {
      "application/vnd.jupyter.widget-view+json": {
       "model_id": "89c459b1b61e4882977aa26229aa6a47",
       "version_major": 2,
       "version_minor": 0
      },
      "text/plain": [
       "A Jupyter Widget"
      ]
     },
     "metadata": {},
     "output_type": "display_data"
    },
    {
     "data": {
      "application/vnd.jupyter.widget-view+json": {
       "model_id": "574c12506f774ba4bfc9ac10a15842bb",
       "version_major": 2,
       "version_minor": 0
      },
      "text/plain": [
       "A Jupyter Widget"
      ]
     },
     "metadata": {},
     "output_type": "display_data"
    }
   ],
   "source": [
    "#hide\n",
    "from IPython.display import Image, clear_output\n",
    "game = tttMain()"
   ]
  }
 ],
 "metadata": {
  "celltoolbar": "Initialization Cell",
  "kernelspec": {
   "display_name": "Python 3",
   "language": "python",
   "name": "python3"
  },
  "language_info": {
   "codemirror_mode": {
    "name": "ipython",
    "version": 3
   },
   "file_extension": ".py",
   "mimetype": "text/x-python",
   "name": "python",
   "nbconvert_exporter": "python",
   "pygments_lexer": "ipython3",
   "version": "3.6.0"
  }
 },
 "nbformat": 4,
 "nbformat_minor": 2
}
